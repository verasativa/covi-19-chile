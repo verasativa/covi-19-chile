{
 "cells": [
  {
   "cell_type": "markdown",
   "metadata": {},
   "source": [
    "# Functional (not experimental) notebook to extract data from Google's community mobility report"
   ]
  },
  {
   "cell_type": "code",
   "execution_count": 1,
   "metadata": {},
   "outputs": [
    {
     "data": {
      "text/plain": [
       "[<DirEntry 'Residential.svg'>,\n",
       " <DirEntry 'Grocery & pharmacy.svg'>,\n",
       " <DirEntry 'Parks.svg'>,\n",
       " <DirEntry 'Retail - recreation.svg'>,\n",
       " <DirEntry 'Workplaces.svg'>,\n",
       " <DirEntry 'Transit stations.svg'>]"
      ]
     },
     "execution_count": 1,
     "metadata": {},
     "output_type": "execute_result"
    }
   ],
   "source": [
    "# Load sgv files\n",
    "from svglib.svglib import svg2rlg\n",
    "import os\n",
    "\n",
    "file_list = [file for file in os.scandir('data/figures') if file.name.split('.')[-1] == 'svg']\n",
    "file_list\n",
    "#drawing = svg2rlg(\"/Users/v/Desktop/Retail - recreation.svg\")"
   ]
  },
  {
   "cell_type": "code",
   "execution_count": 2,
   "metadata": {},
   "outputs": [],
   "source": [
    "from reportlab.graphics.shapes import PolyLine, Line\n",
    "import matplotlib.pyplot as plt\n",
    "\n",
    "def get_type(figure, type_ = PolyLine, check_one = True):\n",
    "    def get_types(branch, types = []):\n",
    "        if type(branch) == type_:\n",
    "            types.append(branch)\n",
    "        try:\n",
    "            for sub_branch in branch.getContents():\n",
    "                types = get_types(sub_branch, types)\n",
    "        except:\n",
    "            pass\n",
    "        \n",
    "        return types\n",
    "    \n",
    "\n",
    "    types = get_types(figure)\n",
    "    \n",
    "    if len(types) > 1:\n",
    "        if check_one:\n",
    "            print(f'Found more than one {str(type_)}, please check result')\n",
    "        return types\n",
    "    else:\n",
    "        return types[0]\n",
    "    \n",
    "\n",
    "def plot_line(line):\n",
    "    x, y = [line.x1, line.x2], [line.y1 * -1, line.y2 * -1]\n",
    "    plt.plot(x, y)\n",
    "  "
   ]
  },
  {
   "cell_type": "markdown",
   "metadata": {},
   "source": [
    "## Just check that all images have the same reference frame"
   ]
  },
  {
   "cell_type": "code",
   "execution_count": 3,
   "metadata": {},
   "outputs": [
    {
     "name": "stdout",
     "output_type": "stream",
     "text": [
      "lines[0].y1 = 308.2\n",
      "lines[1].y1 = 308.2\n",
      "lines[2].y1 = 308.2\n",
      "lines[3].y1 = 308.2\n",
      "lines[4].y1 = 308.2\n",
      "lines[5].y1 = 308.2\n",
      "lines[6].y1 = 308.2\n",
      "lines[7].y1 = 308.2\n",
      "lines[8].y1 = 308.2\n",
      "lines[9].y1 = 308.2\n",
      "lines[10].y1 = 291.06\n",
      "lines[11].y1 = 273.91\n",
      "lines[12].y1 = 256.76\n",
      "lines[13].y1 = 239.61\n"
     ]
    },
    {
     "data": {
      "image/png": "[encoded data removed]",
      "text/plain": [
       "<Figure size 432x288 with 1 Axes>"
      ]
     },
     "metadata": {
      "needs_background": "light"
     },
     "output_type": "display_data"
    },
    {
     "name": "stdout",
     "output_type": "stream",
     "text": [
      "lines[0].y1 = 308.2\n",
      "lines[1].y1 = 308.2\n",
      "lines[2].y1 = 308.2\n",
      "lines[3].y1 = 308.2\n",
      "lines[4].y1 = 308.2\n",
      "lines[5].y1 = 308.2\n",
      "lines[6].y1 = 308.2\n",
      "lines[7].y1 = 308.2\n",
      "lines[8].y1 = 308.2\n",
      "lines[9].y1 = 308.2\n",
      "lines[10].y1 = 291.06\n",
      "lines[11].y1 = 273.91\n",
      "lines[12].y1 = 256.76\n",
      "lines[13].y1 = 239.61\n"
     ]
    },
    {
     "data": {
      "image/png": "[encoded data removed]",
      "text/plain": [
       "<Figure size 432x288 with 1 Axes>"
      ]
     },
     "metadata": {
      "needs_background": "light"
     },
     "output_type": "display_data"
    },
    {
     "name": "stdout",
     "output_type": "stream",
     "text": [
      "lines[0].y1 = 308.2\n",
      "lines[1].y1 = 308.2\n",
      "lines[2].y1 = 308.2\n",
      "lines[3].y1 = 308.2\n",
      "lines[4].y1 = 308.2\n",
      "lines[5].y1 = 308.2\n",
      "lines[6].y1 = 308.2\n",
      "lines[7].y1 = 308.2\n",
      "lines[8].y1 = 308.2\n",
      "lines[9].y1 = 308.2\n",
      "lines[10].y1 = 291.06\n",
      "lines[11].y1 = 273.91\n",
      "lines[12].y1 = 256.76\n",
      "lines[13].y1 = 239.61\n"
     ]
    },
    {
     "data": {
      "image/png": "[encoded data removed]",
      "text/plain": [
       "<Figure size 432x288 with 1 Axes>"
      ]
     },
     "metadata": {
      "needs_background": "light"
     },
     "output_type": "display_data"
    },
    {
     "name": "stdout",
     "output_type": "stream",
     "text": [
      "lines[0].y1 = 308.2\n",
      "lines[1].y1 = 308.2\n",
      "lines[2].y1 = 308.2\n",
      "lines[3].y1 = 308.2\n",
      "lines[4].y1 = 308.2\n",
      "lines[5].y1 = 308.2\n",
      "lines[6].y1 = 308.2\n",
      "lines[7].y1 = 308.2\n",
      "lines[8].y1 = 308.2\n",
      "lines[9].y1 = 308.2\n",
      "lines[10].y1 = 291.06\n",
      "lines[11].y1 = 273.91\n",
      "lines[12].y1 = 256.76\n",
      "lines[13].y1 = 239.61\n"
     ]
    },
    {
     "data": {
      "image/png": "[encoded data removed]",
      "text/plain": [
       "<Figure size 432x288 with 1 Axes>"
      ]
     },
     "metadata": {
      "needs_background": "light"
     },
     "output_type": "display_data"
    },
    {
     "name": "stdout",
     "output_type": "stream",
     "text": [
      "lines[0].y1 = 308.2\n",
      "lines[1].y1 = 308.2\n",
      "lines[2].y1 = 308.2\n",
      "lines[3].y1 = 308.2\n",
      "lines[4].y1 = 308.2\n",
      "lines[5].y1 = 308.2\n",
      "lines[6].y1 = 308.2\n",
      "lines[7].y1 = 308.2\n",
      "lines[8].y1 = 308.2\n",
      "lines[9].y1 = 308.2\n",
      "lines[10].y1 = 291.06\n",
      "lines[11].y1 = 273.91\n",
      "lines[12].y1 = 256.76\n",
      "lines[13].y1 = 239.61\n"
     ]
    },
    {
     "data": {
      "image/png": "[encoded data removed]",
      "text/plain": [
       "<Figure size 432x288 with 1 Axes>"
      ]
     },
     "metadata": {
      "needs_background": "light"
     },
     "output_type": "display_data"
    },
    {
     "name": "stdout",
     "output_type": "stream",
     "text": [
      "lines[0].y1 = 308.2\n",
      "lines[1].y1 = 308.2\n",
      "lines[2].y1 = 308.2\n",
      "lines[3].y1 = 308.2\n",
      "lines[4].y1 = 308.2\n",
      "lines[5].y1 = 308.2\n",
      "lines[6].y1 = 308.2\n",
      "lines[7].y1 = 308.2\n",
      "lines[8].y1 = 308.2\n",
      "lines[9].y1 = 308.2\n",
      "lines[10].y1 = 291.06\n",
      "lines[11].y1 = 273.91\n",
      "lines[12].y1 = 256.76\n",
      "lines[13].y1 = 239.61\n"
     ]
    },
    {
     "data": {
      "image/png": "[encoded data removed]",
      "text/plain": [
       "<Figure size 432x288 with 1 Axes>"
      ]
     },
     "metadata": {
      "needs_background": "light"
     },
     "output_type": "display_data"
    }
   ],
   "source": [
    " \n",
    "for file in file_list:\n",
    "    drawing = svg2rlg(f'data/figures/{file.name}')\n",
    "    lines = get_type(drawing, Line, False)\n",
    "    for i, line in enumerate(lines):\n",
    "        print(f'lines[{i}].y1 = {line.y1}')\n",
    "        plot_line(line)\n",
    "    plt.show()\n",
    "    plt.close()"
   ]
  },
  {
   "cell_type": "code",
   "execution_count": 4,
   "metadata": {},
   "outputs": [],
   "source": [
    "import pandas as pd\n",
    "import datetime\n",
    "from collections import namedtuple\n",
    "\n",
    "Ref = namedtuple('Reference', ['rate', 'level'])\n",
    "\n",
    "ref = Ref(-.4, -291.06)\n",
    "\n",
    "def polyline2df(poliline, baseline, ref, start_date = datetime.date(2020, 2, 16), yname = 'ratio'):\n",
    "    df = pd.DataFrame()\n",
    "    factor = ref.rate / (ref.level - baseline)\n",
    "    \n",
    "    x, y = [], []\n",
    "    for i, value in enumerate(poliline.points):\n",
    "        if i % 2 == 0:\n",
    "            x.append(start_date)\n",
    "            start_date = start_date + datetime.timedelta(days=1)\n",
    "        elif i % 2 == 1:\n",
    "            y.append(((value * -1) - baseline) * factor)\n",
    "            \n",
    "    df['date'] = x\n",
    "    df[yname] = y\n",
    "    \n",
    "    return df.set_index('date')"
   ]
  },
  {
   "cell_type": "code",
   "execution_count": 5,
   "metadata": {},
   "outputs": [
    {
     "name": "stdout",
     "output_type": "stream",
     "text": [
      "Residential\n",
      "Grocery & pharmacy\n",
      "Parks\n",
      "Retail - recreation\n",
      "Workplaces\n",
      "Transit stations\n"
     ]
    }
   ],
   "source": [
    "dataframes = []\n",
    "\n",
    "for file in file_list:\n",
    "    drawing = svg2rlg(f'data/figures/{file.name}')\n",
    "    polyline = get_type(drawing, PolyLine, True)\n",
    "    data_name = file.name.split('.')[0]\n",
    "    print(data_name)\n",
    "    df = polyline2df(polyline, -273.91, ref, yname = data_name)\n",
    "    dataframes.append(df)"
   ]
  },
  {
   "cell_type": "code",
   "execution_count": 6,
   "metadata": {},
   "outputs": [],
   "source": [
    "df = pd.concat(dataframes, axis=1)\n",
    "df.reset_index().to_feather('gcmr.feather')\n",
    "df.to_csv('gcmr.csv')"
   ]
  },
  {
   "cell_type": "code",
   "execution_count": null,
   "metadata": {},
   "outputs": [],
   "source": []
  }
 ],
 "metadata": {
  "kernelspec": {
   "display_name": "Python 3",
   "language": "python",
   "name": "python3"
  },
  "language_info": {
   "codemirror_mode": {
    "name": "ipython",
    "version": 3
   },
   "file_extension": ".py",
   "mimetype": "text/x-python",
   "name": "python",
   "nbconvert_exporter": "python",
   "pygments_lexer": "ipython3",
   "version": "3.8.1"
  }
 },
 "nbformat": 4,
 "nbformat_minor": 4
}
