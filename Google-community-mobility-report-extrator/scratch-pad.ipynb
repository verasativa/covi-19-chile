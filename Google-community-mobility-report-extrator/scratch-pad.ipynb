{
 "cells": [
  {
   "cell_type": "markdown",
   "metadata": {},
   "source": [
    "# Exploration"
   ]
  },
  {
   "cell_type": "code",
   "execution_count": 1,
   "metadata": {},
   "outputs": [],
   "source": [
    "from svglib.svglib import svg2rlg\n",
    "\n",
    "drawing = svg2rlg(\"/Users/v/Desktop/Retail - recreation.svg\")"
   ]
  },
  {
   "cell_type": "code",
   "execution_count": 2,
   "metadata": {},
   "outputs": [
    {
     "data": {
      "text/plain": [
       "reportlab.graphics.shapes.Path"
      ]
     },
     "execution_count": 2,
     "metadata": {},
     "output_type": "execute_result"
    }
   ],
   "source": [
    "type(drawing.getContents()[0].getContents()[0].getContents()[1].getContents()[0])"
   ]
  },
  {
   "cell_type": "code",
   "execution_count": 21,
   "metadata": {},
   "outputs": [],
   "source": [
    "path = drawing.getContents()[0].getContents()[0].getContents()[1].getContents()[0]\n",
    "#path.points"
   ]
  },
  {
   "cell_type": "code",
   "execution_count": 26,
   "metadata": {},
   "outputs": [
    {
     "data": {
      "text/plain": [
       "dict_keys(['strokeColor', 'strokeWidth', 'strokeLineCap', 'strokeLineJoin', 'strokeMiterLimit', 'strokeDashArray', 'strokeOpacity', 'x1', 'y1', 'x2', 'y2', '_fillRule'])"
      ]
     },
     "execution_count": 26,
     "metadata": {},
     "output_type": "execute_result"
    }
   ],
   "source": [
    "line = drawing.getContents()[0].getContents()[0].getContents()[0]\n",
    "line.__dict__.keys()"
   ]
  },
  {
   "cell_type": "code",
   "execution_count": 53,
   "metadata": {},
   "outputs": [],
   "source": [
    "shapes = line.getContents()"
   ]
  },
  {
   "cell_type": "code",
   "execution_count": 98,
   "metadata": {},
   "outputs": [
    {
     "data": {
      "text/plain": [
       "(91.29, 308.2, 91.29, 311.63)"
      ]
     },
     "execution_count": 98,
     "metadata": {},
     "output_type": "execute_result"
    }
   ],
   "source": [
    "lines[0].getBounds()"
   ]
  },
  {
   "cell_type": "code",
   "execution_count": 35,
   "metadata": {},
   "outputs": [
    {
     "name": "stdout",
     "output_type": "stream",
     "text": [
      "<reportlab.graphics.shapes.Drawing object at 0x10f243370>\n",
      "[0]<reportlab.graphics.shapes.Group object at 0x10f231b50>\n",
      "[0][0]<reportlab.graphics.shapes.Group object at 0x10ff0c040>\n",
      "[0][0][0]<reportlab.graphics.shapes.Line object at 0x10ff0c700>\n",
      "[0][0][1]<reportlab.graphics.shapes.Group object at 0x10feffc40>\n",
      "[0][0][1][0]<reportlab.graphics.shapes.Path object at 0x10ff0c730>\n",
      "[0][0][2]<reportlab.graphics.shapes.Line object at 0x10ff0cb80>\n",
      "[0][0][3]<reportlab.graphics.shapes.Group object at 0x10ff0cd00>\n",
      "[0][0][3][0]<reportlab.graphics.shapes.Path object at 0x10ff0cc40>\n",
      "[0][0][4]<reportlab.graphics.shapes.Group object at 0x10ff0cb20>\n",
      "[0][0][4][0]<reportlab.graphics.shapes.Path object at 0x10ff0cd60>\n",
      "[0][0][5]<reportlab.graphics.shapes.Line object at 0x10ff0ce80>\n",
      "[0][0][6]<reportlab.graphics.shapes.Group object at 0x10ff0c220>\n",
      "[0][0][6][0]<reportlab.graphics.shapes.Path object at 0x10ff0cfa0>\n",
      "[0][0][7]<reportlab.graphics.shapes.Line object at 0x10ff0ca30>\n",
      "[0][0][8]<reportlab.graphics.shapes.Line object at 0x10ff0c970>\n",
      "[0][0][9]<reportlab.graphics.shapes.Line object at 0x10ff0c4f0>\n",
      "[0][0][10]<reportlab.graphics.shapes.Line object at 0x10ff0c6d0>\n",
      "[0][0][11]<reportlab.graphics.shapes.Line object at 0x10ff22160>\n",
      "[0][0][12]<reportlab.graphics.shapes.Line object at 0x10ff222b0>\n",
      "[0][0][13]<reportlab.graphics.shapes.Group object at 0x10ff22460>\n",
      "[0][0][13][0]<reportlab.graphics.shapes.Path object at 0x10ff223a0>\n",
      "[0][0][14]<reportlab.graphics.shapes.Line object at 0x10ff22550>\n",
      "[0][0][15]<reportlab.graphics.shapes.Group object at 0x10ff226d0>\n",
      "[0][0][15][0]<reportlab.graphics.shapes.Path object at 0x10ff22610>\n",
      "[0][0][16]<reportlab.graphics.shapes.Line object at 0x10ff227c0>\n",
      "[0][0][17]<reportlab.graphics.shapes.Group object at 0x10ff22940>\n",
      "[0][0][17][0]<reportlab.graphics.shapes.Path object at 0x10ff22880>\n",
      "[0][0][18]<reportlab.graphics.shapes.Line object at 0x10ff22ac0>\n",
      "[0][0][19]<reportlab.graphics.shapes.Group object at 0x10ff22cd0>\n",
      "[0][0][19][0]<reportlab.graphics.shapes.Path object at 0x10ff22a90>\n",
      "[0][0][20]<reportlab.graphics.shapes.Line object at 0x10ff22c70>\n",
      "[0][0][21]<reportlab.graphics.shapes.Group object at 0x10ff22eb0>\n",
      "[0][0][21][0]<reportlab.graphics.shapes.Path object at 0x10ff22df0>\n",
      "[0][0][22]<reportlab.graphics.shapes.Line object at 0x10ff22fa0>\n",
      "[0][0][23]<reportlab.graphics.shapes.PolyLine object at 0x10ff22e50>\n"
     ]
    },
    {
     "data": {
      "text/plain": [
       "([<reportlab.graphics.shapes.Path at 0x10ff0c730>,\n",
       "  <reportlab.graphics.shapes.Path at 0x10ff0cc40>,\n",
       "  <reportlab.graphics.shapes.Path at 0x10ff0cd60>,\n",
       "  <reportlab.graphics.shapes.Path at 0x10ff0cfa0>,\n",
       "  <reportlab.graphics.shapes.Path at 0x10ff223a0>,\n",
       "  <reportlab.graphics.shapes.Path at 0x10ff22610>,\n",
       "  <reportlab.graphics.shapes.Path at 0x10ff22880>,\n",
       "  <reportlab.graphics.shapes.Path at 0x10ff22a90>,\n",
       "  <reportlab.graphics.shapes.Path at 0x10ff22df0>],\n",
       " [<reportlab.graphics.shapes.Line at 0x10ff0c700>,\n",
       "  <reportlab.graphics.shapes.Line at 0x10ff0cb80>,\n",
       "  <reportlab.graphics.shapes.Line at 0x10ff0ce80>,\n",
       "  <reportlab.graphics.shapes.Line at 0x10ff0ca30>,\n",
       "  <reportlab.graphics.shapes.Line at 0x10ff0c970>,\n",
       "  <reportlab.graphics.shapes.Line at 0x10ff0c4f0>,\n",
       "  <reportlab.graphics.shapes.Line at 0x10ff0c6d0>,\n",
       "  <reportlab.graphics.shapes.Line at 0x10ff22160>,\n",
       "  <reportlab.graphics.shapes.Line at 0x10ff222b0>,\n",
       "  <reportlab.graphics.shapes.Line at 0x10ff22550>,\n",
       "  <reportlab.graphics.shapes.Line at 0x10ff227c0>,\n",
       "  <reportlab.graphics.shapes.Line at 0x10ff22ac0>,\n",
       "  <reportlab.graphics.shapes.Line at 0x10ff22c70>,\n",
       "  <reportlab.graphics.shapes.Line at 0x10ff22fa0>],\n",
       " [<reportlab.graphics.shapes.PolyLine at 0x10ff22e50>])"
      ]
     },
     "execution_count": 35,
     "metadata": {},
     "output_type": "execute_result"
    }
   ],
   "source": [
    "from collections.abc import Iterable\n",
    "from reportlab.graphics.shapes import (\n",
    "    _CLOSEPATH, Circle, Drawing, Ellipse, Group, Image, Line, Path, PolyLine,\n",
    "    Polygon, Rect, SolidShape, String,\n",
    ")\n",
    "\n",
    "paths = []\n",
    "lines = []\n",
    "polilines = []\n",
    "def explore_tree(branch, prefix = ''):\n",
    "    global paths, lines\n",
    "    if type(branch) == Path:\n",
    "        paths.append(branch)\n",
    "    elif type(branch) == Line:\n",
    "        lines.append(branch)\n",
    "    elif type(branch) == PolyLine:\n",
    "        polilines.append(branch)\n",
    "    print(f'{prefix}{branch}')\n",
    "    try:\n",
    "        for i, sub_branch in enumerate(branch.getContents()):\n",
    "            sub_prefix = f'{prefix}[{i}]'\n",
    "            explore_tree(sub_branch, sub_prefix)\n",
    "    except:\n",
    "        pass\n",
    "    \n",
    "    \n",
    "        \n",
    "explore_tree(drawing)\n",
    "paths, lines, polilines"
   ]
  },
  {
   "cell_type": "code",
   "execution_count": 28,
   "metadata": {},
   "outputs": [
    {
     "data": {
      "image/png": "[encoded data removed]",
      "text/plain": [
       "<Figure size 432x288 with 1 Axes>"
      ]
     },
     "metadata": {
      "needs_background": "light"
     },
     "output_type": "display_data"
    }
   ],
   "source": [
    "import matplotlib.pyplot as plt\n",
    "\n",
    "def plot_path(path):\n",
    "    x, y = [], []\n",
    "    for i, value in enumerate(path.points):\n",
    "        if i % 2 == 0:\n",
    "            x.append(value)\n",
    "        elif i % 2 == 1:\n",
    "            y.append(value* -1)\n",
    "            \n",
    "    plt.plot(x, y)\n",
    "    \n",
    "\n",
    "for path in paths:\n",
    "    plot_path(path)"
   ]
  },
  {
   "cell_type": "code",
   "execution_count": 49,
   "metadata": {},
   "outputs": [
    {
     "name": "stdout",
     "output_type": "stream",
     "text": [
      "lines[0].y1 = 308.2\n",
      "lines[1].y1 = 308.2\n",
      "lines[2].y1 = 308.2\n",
      "lines[3].y1 = 308.2\n",
      "lines[4].y1 = 308.2\n",
      "lines[5].y1 = 308.2\n",
      "lines[6].y1 = 308.2\n",
      "lines[7].y1 = 308.2\n",
      "lines[8].y1 = 308.2\n",
      "lines[9].y1 = 308.2\n",
      "lines[10].y1 = 291.06\n",
      "lines[11].y1 = 273.91\n",
      "lines[12].y1 = 256.76\n",
      "lines[13].y1 = 239.61\n"
     ]
    },
    {
     "data": {
      "image/png": "[encoded data removed]",
      "text/plain": [
       "<Figure size 432x288 with 1 Axes>"
      ]
     },
     "metadata": {
      "needs_background": "light"
     },
     "output_type": "display_data"
    }
   ],
   "source": [
    "def plot_line(line):\n",
    "    x, y = [line.x1, line.x2], [line.y1 * -1, line.y2 * -1]\n",
    "    plt.plot(x, y)\n",
    "    \n",
    "for i, line in enumerate(lines):\n",
    "    plot_line(line)\n",
    "    print(f'lines[{i}].y1 = {line.y1}')"
   ]
  },
  {
   "cell_type": "code",
   "execution_count": 82,
   "metadata": {},
   "outputs": [
    {
     "data": {
      "image/png": "[encoded data removed]",
      "text/plain": [
       "<Figure size 432x288 with 1 Axes>"
      ]
     },
     "metadata": {
      "needs_background": "light"
     },
     "output_type": "display_data"
    }
   ],
   "source": [
    "plot_path(polilines[0])"
   ]
  },
  {
   "cell_type": "code",
   "execution_count": 84,
   "metadata": {},
   "outputs": [
    {
     "data": {
      "text/plain": [
       "42"
      ]
     },
     "execution_count": 84,
     "metadata": {},
     "output_type": "execute_result"
    }
   ],
   "source": [
    "import datetime\n",
    "\n",
    "start_date = datetime.date(2020, 2, 16)\n",
    "end_date = datetime.date(2020, 3, 29)\n",
    "delta_date = end_date - start_date\n",
    "delta_date.days"
   ]
  },
  {
   "cell_type": "code",
   "execution_count": 93,
   "metadata": {},
   "outputs": [],
   "source": [
    "seconds = 24 * 3600 // (284 / 42)\n",
    "\n",
    "delta_steps = datetime.timedelta(seconds=seconds)\n",
    "\n",
    "datetimes = []\n",
    "current_date = datetime.datetime.combine(start_date, datetime.datetime.min.time())\n",
    "for i in range(284):\n",
    "    datetimes.append(current_date)\n",
    "    current_date = current_date + delta_steps"
   ]
  },
  {
   "cell_type": "code",
   "execution_count": 92,
   "metadata": {},
   "outputs": [
    {
     "data": {
      "text/plain": [
       "285"
      ]
     },
     "execution_count": 92,
     "metadata": {},
     "output_type": "execute_result"
    }
   ],
   "source": [
    "len(datetimes)"
   ]
  },
  {
   "cell_type": "code",
   "execution_count": 77,
   "metadata": {},
   "outputs": [
    {
     "data": {
      "text/plain": [
       "Reference(rate=-0.4, level=-291.06)"
      ]
     },
     "execution_count": 77,
     "metadata": {},
     "output_type": "execute_result"
    }
   ],
   "source": [
    "from collections import namedtuple\n",
    "\n",
    "Ref = namedtuple('Reference', ['rate', 'level'])\n",
    "\n",
    "ref = Ref(-.4, -291.06)\n",
    "ref"
   ]
  },
  {
   "cell_type": "code",
   "execution_count": 78,
   "metadata": {},
   "outputs": [
    {
     "data": {
      "text/plain": [
       "-0.39999999999999997"
      ]
     },
     "execution_count": 78,
     "metadata": {},
     "output_type": "execute_result"
    }
   ],
   "source": [
    "factor = ref.rate / ref.level\n",
    "\n",
    "-291.06 * factor"
   ]
  },
  {
   "cell_type": "code",
   "execution_count": 79,
   "metadata": {},
   "outputs": [
    {
     "data": {
      "text/plain": [
       "17.149999999999977"
      ]
     },
     "execution_count": 79,
     "metadata": {},
     "output_type": "execute_result"
    }
   ],
   "source": [
    "(-273.91) - (-291.06)"
   ]
  },
  {
   "cell_type": "code",
   "execution_count": 132,
   "metadata": {},
   "outputs": [
    {
     "data": {
      "text/plain": [
       "<matplotlib.axes._subplots.AxesSubplot at 0x128863160>"
      ]
     },
     "execution_count": 132,
     "metadata": {},
     "output_type": "execute_result"
    },
    {
     "data": {
      "image/png": "[encoded data removed]",
      "text/plain": [
       "<Figure size 432x288 with 1 Axes>"
      ]
     },
     "metadata": {
      "needs_background": "light"
     },
     "output_type": "display_data"
    }
   ],
   "source": [
    "import pandas as pd\n",
    "\n",
    "def poliline2df(poliline, baseline, ref, start_date = datetime.date(2020, 2, 16)):\n",
    "    df = pd.DataFrame()\n",
    "    factor = ref.rate / (ref.level - baseline)\n",
    "    \n",
    "    x, y = [], []\n",
    "    for i, value in enumerate(poliline.points):\n",
    "        if i % 2 == 0:\n",
    "            x.append(start_date)\n",
    "            start_date = start_date + datetime.timedelta(days=1)\n",
    "        elif i % 2 == 1:\n",
    "            y.append(((value * -1) - baseline) * factor)\n",
    "            \n",
    "    df['date'] = x\n",
    "    df['ratio'] = y\n",
    "    \n",
    "    return df.set_index('date')\n",
    "\n",
    "df = poliline2df(polilines[0], -273.91, ref)\n",
    "#df.set_index('x')\n",
    "df.plot()"
   ]
  },
  {
   "cell_type": "code",
   "execution_count": 133,
   "metadata": {},
   "outputs": [
    {
     "data": {
      "text/html": [
       "<div>\n",
       "<style scoped>\n",
       "    .dataframe tbody tr th:only-of-type {\n",
       "        vertical-align: middle;\n",
       "    }\n",
       "\n",
       "    .dataframe tbody tr th {\n",
       "        vertical-align: top;\n",
       "    }\n",
       "\n",
       "    .dataframe thead th {\n",
       "        text-align: right;\n",
       "    }\n",
       "</style>\n",
       "<table border=\"1\" class=\"dataframe\">\n",
       "  <thead>\n",
       "    <tr style=\"text-align: right;\">\n",
       "      <th></th>\n",
       "      <th>ratio</th>\n",
       "    </tr>\n",
       "    <tr>\n",
       "      <th>date</th>\n",
       "      <th></th>\n",
       "    </tr>\n",
       "  </thead>\n",
       "  <tbody>\n",
       "    <tr>\n",
       "      <th>2020-02-16</th>\n",
       "      <td>0.032653</td>\n",
       "    </tr>\n",
       "    <tr>\n",
       "      <th>2020-02-17</th>\n",
       "      <td>0.009096</td>\n",
       "    </tr>\n",
       "    <tr>\n",
       "      <th>2020-02-18</th>\n",
       "      <td>0.002332</td>\n",
       "    </tr>\n",
       "    <tr>\n",
       "      <th>2020-02-19</th>\n",
       "      <td>-0.003265</td>\n",
       "    </tr>\n",
       "    <tr>\n",
       "      <th>2020-02-20</th>\n",
       "      <td>-0.014927</td>\n",
       "    </tr>\n",
       "    <tr>\n",
       "      <th>2020-02-21</th>\n",
       "      <td>-0.027755</td>\n",
       "    </tr>\n",
       "    <tr>\n",
       "      <th>2020-02-22</th>\n",
       "      <td>-0.002099</td>\n",
       "    </tr>\n",
       "    <tr>\n",
       "      <th>2020-02-23</th>\n",
       "      <td>-0.010729</td>\n",
       "    </tr>\n",
       "    <tr>\n",
       "      <th>2020-02-24</th>\n",
       "      <td>-0.013761</td>\n",
       "    </tr>\n",
       "    <tr>\n",
       "      <th>2020-02-25</th>\n",
       "      <td>-0.005598</td>\n",
       "    </tr>\n",
       "    <tr>\n",
       "      <th>2020-02-26</th>\n",
       "      <td>-0.028455</td>\n",
       "    </tr>\n",
       "    <tr>\n",
       "      <th>2020-02-27</th>\n",
       "      <td>-0.012128</td>\n",
       "    </tr>\n",
       "    <tr>\n",
       "      <th>2020-02-28</th>\n",
       "      <td>0.058076</td>\n",
       "    </tr>\n",
       "    <tr>\n",
       "      <th>2020-02-29</th>\n",
       "      <td>0.125481</td>\n",
       "    </tr>\n",
       "    <tr>\n",
       "      <th>2020-03-01</th>\n",
       "      <td>0.109854</td>\n",
       "    </tr>\n",
       "    <tr>\n",
       "      <th>2020-03-02</th>\n",
       "      <td>0.046880</td>\n",
       "    </tr>\n",
       "    <tr>\n",
       "      <th>2020-03-03</th>\n",
       "      <td>0.044781</td>\n",
       "    </tr>\n",
       "    <tr>\n",
       "      <th>2020-03-04</th>\n",
       "      <td>0.005364</td>\n",
       "    </tr>\n",
       "    <tr>\n",
       "      <th>2020-03-05</th>\n",
       "      <td>-0.010496</td>\n",
       "    </tr>\n",
       "    <tr>\n",
       "      <th>2020-03-06</th>\n",
       "      <td>0.006531</td>\n",
       "    </tr>\n",
       "    <tr>\n",
       "      <th>2020-03-07</th>\n",
       "      <td>0.065539</td>\n",
       "    </tr>\n",
       "    <tr>\n",
       "      <th>2020-03-08</th>\n",
       "      <td>0.048980</td>\n",
       "    </tr>\n",
       "    <tr>\n",
       "      <th>2020-03-09</th>\n",
       "      <td>-0.031720</td>\n",
       "    </tr>\n",
       "    <tr>\n",
       "      <th>2020-03-10</th>\n",
       "      <td>-0.025423</td>\n",
       "    </tr>\n",
       "    <tr>\n",
       "      <th>2020-03-11</th>\n",
       "      <td>-0.083732</td>\n",
       "    </tr>\n",
       "    <tr>\n",
       "      <th>2020-03-12</th>\n",
       "      <td>-0.071137</td>\n",
       "    </tr>\n",
       "    <tr>\n",
       "      <th>2020-03-13</th>\n",
       "      <td>-0.030554</td>\n",
       "    </tr>\n",
       "    <tr>\n",
       "      <th>2020-03-14</th>\n",
       "      <td>0.009563</td>\n",
       "    </tr>\n",
       "    <tr>\n",
       "      <th>2020-03-15</th>\n",
       "      <td>-0.100758</td>\n",
       "    </tr>\n",
       "    <tr>\n",
       "      <th>2020-03-16</th>\n",
       "      <td>-0.202216</td>\n",
       "    </tr>\n",
       "    <tr>\n",
       "      <th>2020-03-17</th>\n",
       "      <td>-0.308338</td>\n",
       "    </tr>\n",
       "    <tr>\n",
       "      <th>2020-03-18</th>\n",
       "      <td>-0.377376</td>\n",
       "    </tr>\n",
       "    <tr>\n",
       "      <th>2020-03-19</th>\n",
       "      <td>-0.513120</td>\n",
       "    </tr>\n",
       "    <tr>\n",
       "      <th>2020-03-20</th>\n",
       "      <td>-0.542741</td>\n",
       "    </tr>\n",
       "    <tr>\n",
       "      <th>2020-03-21</th>\n",
       "      <td>-0.629038</td>\n",
       "    </tr>\n",
       "    <tr>\n",
       "      <th>2020-03-22</th>\n",
       "      <td>-0.716035</td>\n",
       "    </tr>\n",
       "    <tr>\n",
       "      <th>2020-03-23</th>\n",
       "      <td>-0.624140</td>\n",
       "    </tr>\n",
       "    <tr>\n",
       "      <th>2020-03-24</th>\n",
       "      <td>-0.635102</td>\n",
       "    </tr>\n",
       "    <tr>\n",
       "      <th>2020-03-25</th>\n",
       "      <td>-0.635569</td>\n",
       "    </tr>\n",
       "    <tr>\n",
       "      <th>2020-03-26</th>\n",
       "      <td>-0.612711</td>\n",
       "    </tr>\n",
       "    <tr>\n",
       "      <th>2020-03-27</th>\n",
       "      <td>-0.674286</td>\n",
       "    </tr>\n",
       "    <tr>\n",
       "      <th>2020-03-28</th>\n",
       "      <td>-0.683382</td>\n",
       "    </tr>\n",
       "    <tr>\n",
       "      <th>2020-03-29</th>\n",
       "      <td>-0.733528</td>\n",
       "    </tr>\n",
       "  </tbody>\n",
       "</table>\n",
       "</div>"
      ],
      "text/plain": [
       "               ratio\n",
       "date                \n",
       "2020-02-16  0.032653\n",
       "2020-02-17  0.009096\n",
       "2020-02-18  0.002332\n",
       "2020-02-19 -0.003265\n",
       "2020-02-20 -0.014927\n",
       "2020-02-21 -0.027755\n",
       "2020-02-22 -0.002099\n",
       "2020-02-23 -0.010729\n",
       "2020-02-24 -0.013761\n",
       "2020-02-25 -0.005598\n",
       "2020-02-26 -0.028455\n",
       "2020-02-27 -0.012128\n",
       "2020-02-28  0.058076\n",
       "2020-02-29  0.125481\n",
       "2020-03-01  0.109854\n",
       "2020-03-02  0.046880\n",
       "2020-03-03  0.044781\n",
       "2020-03-04  0.005364\n",
       "2020-03-05 -0.010496\n",
       "2020-03-06  0.006531\n",
       "2020-03-07  0.065539\n",
       "2020-03-08  0.048980\n",
       "2020-03-09 -0.031720\n",
       "2020-03-10 -0.025423\n",
       "2020-03-11 -0.083732\n",
       "2020-03-12 -0.071137\n",
       "2020-03-13 -0.030554\n",
       "2020-03-14  0.009563\n",
       "2020-03-15 -0.100758\n",
       "2020-03-16 -0.202216\n",
       "2020-03-17 -0.308338\n",
       "2020-03-18 -0.377376\n",
       "2020-03-19 -0.513120\n",
       "2020-03-20 -0.542741\n",
       "2020-03-21 -0.629038\n",
       "2020-03-22 -0.716035\n",
       "2020-03-23 -0.624140\n",
       "2020-03-24 -0.635102\n",
       "2020-03-25 -0.635569\n",
       "2020-03-26 -0.612711\n",
       "2020-03-27 -0.674286\n",
       "2020-03-28 -0.683382\n",
       "2020-03-29 -0.733528"
      ]
     },
     "execution_count": 133,
     "metadata": {},
     "output_type": "execute_result"
    }
   ],
   "source": [
    "df"
   ]
  },
  {
   "cell_type": "markdown",
   "metadata": {},
   "source": [
    "# Systematization"
   ]
  },
  {
   "cell_type": "code",
   "execution_count": 1,
   "metadata": {},
   "outputs": [
    {
     "data": {
      "text/plain": [
       "[<DirEntry 'Residential.svg'>,\n",
       " <DirEntry 'Grocery & pharmacy.svg'>,\n",
       " <DirEntry 'Parks.svg'>,\n",
       " <DirEntry 'Retail - recreation.svg'>,\n",
       " <DirEntry 'Workplaces.svg'>,\n",
       " <DirEntry 'Transit stations.svg'>]"
      ]
     },
     "execution_count": 1,
     "metadata": {},
     "output_type": "execute_result"
    }
   ],
   "source": [
    "# Load sgv files\n",
    "from svglib.svglib import svg2rlg\n",
    "import os\n",
    "\n",
    "file_list = [file for file in os.scandir('data/figures') if file.name.split('.')[-1] == 'svg']\n",
    "file_list\n",
    "#drawing = svg2rlg(\"/Users/v/Desktop/Retail - recreation.svg\")"
   ]
  },
  {
   "cell_type": "code",
   "execution_count": 39,
   "metadata": {},
   "outputs": [
    {
     "data": {
      "text/plain": [
       "<reportlab.graphics.shapes.PolyLine at 0x127113820>"
      ]
     },
     "execution_count": 39,
     "metadata": {},
     "output_type": "execute_result"
    }
   ],
   "source": [
    "from reportlab.graphics.shapes import PolyLine, Line\n",
    "\n",
    "def get_type(figure, type_ = PolyLine, check_one = True):\n",
    "    def get_types(branch, types = []):\n",
    "        if type(branch) == type_:\n",
    "            types.append(branch)\n",
    "        try:\n",
    "            for sub_branch in branch.getContents():\n",
    "                types = get_types(sub_branch, types)\n",
    "        except:\n",
    "            pass\n",
    "        \n",
    "        return types\n",
    "    \n",
    "\n",
    "    types = get_types(figure)\n",
    "    \n",
    "    if len(types) > 1:\n",
    "        if check_one:\n",
    "            print(f'Found more than one {str(type_)}, please check result')\n",
    "        return types\n",
    "    else:\n",
    "        return types[0]\n",
    "\n",
    "drawing = svg2rlg(\"/Users/v/Desktop/Retail - recreation.svg\")\n",
    "polyline = get_type(drawing, PolyLine, True)\n",
    "polyline"
   ]
  },
  {
   "cell_type": "markdown",
   "metadata": {},
   "source": [
    "## Just check that all images have the same reference frame"
   ]
  },
  {
   "cell_type": "code",
   "execution_count": 28,
   "metadata": {},
   "outputs": [],
   "source": [
    "import matplotlib.pyplot as plt\n",
    "\n",
    "def plot_line(line):\n",
    "    x, y = [line.x1, line.x2], [line.y1 * -1, line.y2 * -1]\n",
    "    plt.plot(x, y)"
   ]
  },
  {
   "cell_type": "code",
   "execution_count": 38,
   "metadata": {},
   "outputs": [
    {
     "name": "stdout",
     "output_type": "stream",
     "text": [
      "lines[0].y1 = 308.2\n",
      "lines[1].y1 = 308.2\n",
      "lines[2].y1 = 308.2\n",
      "lines[3].y1 = 308.2\n",
      "lines[4].y1 = 308.2\n",
      "lines[5].y1 = 308.2\n",
      "lines[6].y1 = 308.2\n",
      "lines[7].y1 = 308.2\n",
      "lines[8].y1 = 308.2\n",
      "lines[9].y1 = 308.2\n",
      "lines[10].y1 = 291.06\n",
      "lines[11].y1 = 273.91\n",
      "lines[12].y1 = 256.76\n",
      "lines[13].y1 = 239.61\n"
     ]
    },
    {
     "data": {
      "image/png": "[encoded data removed]",
      "text/plain": [
       "<Figure size 432x288 with 1 Axes>"
      ]
     },
     "metadata": {
      "needs_background": "light"
     },
     "output_type": "display_data"
    },
    {
     "name": "stdout",
     "output_type": "stream",
     "text": [
      "lines[0].y1 = 308.2\n",
      "lines[1].y1 = 308.2\n",
      "lines[2].y1 = 308.2\n",
      "lines[3].y1 = 308.2\n",
      "lines[4].y1 = 308.2\n",
      "lines[5].y1 = 308.2\n",
      "lines[6].y1 = 308.2\n",
      "lines[7].y1 = 308.2\n",
      "lines[8].y1 = 308.2\n",
      "lines[9].y1 = 308.2\n",
      "lines[10].y1 = 291.06\n",
      "lines[11].y1 = 273.91\n",
      "lines[12].y1 = 256.76\n",
      "lines[13].y1 = 239.61\n"
     ]
    },
    {
     "data": {
      "image/png": "[encoded data removed]",
      "text/plain": [
       "<Figure size 432x288 with 1 Axes>"
      ]
     },
     "metadata": {
      "needs_background": "light"
     },
     "output_type": "display_data"
    },
    {
     "name": "stdout",
     "output_type": "stream",
     "text": [
      "lines[0].y1 = 308.2\n",
      "lines[1].y1 = 308.2\n",
      "lines[2].y1 = 308.2\n",
      "lines[3].y1 = 308.2\n",
      "lines[4].y1 = 308.2\n",
      "lines[5].y1 = 308.2\n",
      "lines[6].y1 = 308.2\n",
      "lines[7].y1 = 308.2\n",
      "lines[8].y1 = 308.2\n",
      "lines[9].y1 = 308.2\n",
      "lines[10].y1 = 291.06\n",
      "lines[11].y1 = 273.91\n",
      "lines[12].y1 = 256.76\n",
      "lines[13].y1 = 239.61\n"
     ]
    },
    {
     "data": {
      "image/png": "[encoded data removed]",
      "text/plain": [
       "<Figure size 432x288 with 1 Axes>"
      ]
     },
     "metadata": {
      "needs_background": "light"
     },
     "output_type": "display_data"
    },
    {
     "name": "stdout",
     "output_type": "stream",
     "text": [
      "lines[0].y1 = 308.2\n",
      "lines[1].y1 = 308.2\n",
      "lines[2].y1 = 308.2\n",
      "lines[3].y1 = 308.2\n",
      "lines[4].y1 = 308.2\n",
      "lines[5].y1 = 308.2\n",
      "lines[6].y1 = 308.2\n",
      "lines[7].y1 = 308.2\n",
      "lines[8].y1 = 308.2\n",
      "lines[9].y1 = 308.2\n",
      "lines[10].y1 = 291.06\n",
      "lines[11].y1 = 273.91\n",
      "lines[12].y1 = 256.76\n",
      "lines[13].y1 = 239.61\n"
     ]
    },
    {
     "data": {
      "image/png": "[encoded data removed]",
      "text/plain": [
       "<Figure size 432x288 with 1 Axes>"
      ]
     },
     "metadata": {
      "needs_background": "light"
     },
     "output_type": "display_data"
    },
    {
     "name": "stdout",
     "output_type": "stream",
     "text": [
      "lines[0].y1 = 308.2\n",
      "lines[1].y1 = 308.2\n",
      "lines[2].y1 = 308.2\n",
      "lines[3].y1 = 308.2\n",
      "lines[4].y1 = 308.2\n",
      "lines[5].y1 = 308.2\n",
      "lines[6].y1 = 308.2\n",
      "lines[7].y1 = 308.2\n",
      "lines[8].y1 = 308.2\n",
      "lines[9].y1 = 308.2\n",
      "lines[10].y1 = 291.06\n",
      "lines[11].y1 = 273.91\n",
      "lines[12].y1 = 256.76\n",
      "lines[13].y1 = 239.61\n"
     ]
    },
    {
     "data": {
      "image/png": "[encoded data removed]",
      "text/plain": [
       "<Figure size 432x288 with 1 Axes>"
      ]
     },
     "metadata": {
      "needs_background": "light"
     },
     "output_type": "display_data"
    },
    {
     "name": "stdout",
     "output_type": "stream",
     "text": [
      "lines[0].y1 = 308.2\n",
      "lines[1].y1 = 308.2\n",
      "lines[2].y1 = 308.2\n",
      "lines[3].y1 = 308.2\n",
      "lines[4].y1 = 308.2\n",
      "lines[5].y1 = 308.2\n",
      "lines[6].y1 = 308.2\n",
      "lines[7].y1 = 308.2\n",
      "lines[8].y1 = 308.2\n",
      "lines[9].y1 = 308.2\n",
      "lines[10].y1 = 291.06\n",
      "lines[11].y1 = 273.91\n",
      "lines[12].y1 = 256.76\n",
      "lines[13].y1 = 239.61\n"
     ]
    },
    {
     "data": {
      "image/png": "[encoded data removed]",
      "text/plain": [
       "<Figure size 432x288 with 1 Axes>"
      ]
     },
     "metadata": {
      "needs_background": "light"
     },
     "output_type": "display_data"
    }
   ],
   "source": [
    "for file in file_list:\n",
    "    drawing = svg2rlg(f'data/figures/{file.name}')\n",
    "    lines = get_type(drawing, Line, False)\n",
    "    for i, line in enumerate(lines):\n",
    "        print(f'lines[{i}].y1 = {line.y1}')\n",
    "        plot_line(line)\n",
    "    plt.show()\n",
    "    plt.close()\n",
    "    #line = get_polyline(drawing)\n",
    "    #print(line)"
   ]
  },
  {
   "cell_type": "code",
   "execution_count": 48,
   "metadata": {},
   "outputs": [
    {
     "data": {
      "text/html": [
       "<div>\n",
       "<style scoped>\n",
       "    .dataframe tbody tr th:only-of-type {\n",
       "        vertical-align: middle;\n",
       "    }\n",
       "\n",
       "    .dataframe tbody tr th {\n",
       "        vertical-align: top;\n",
       "    }\n",
       "\n",
       "    .dataframe thead th {\n",
       "        text-align: right;\n",
       "    }\n",
       "</style>\n",
       "<table border=\"1\" class=\"dataframe\">\n",
       "  <thead>\n",
       "    <tr style=\"text-align: right;\">\n",
       "      <th></th>\n",
       "      <th>ratio</th>\n",
       "    </tr>\n",
       "    <tr>\n",
       "      <th>date</th>\n",
       "      <th></th>\n",
       "    </tr>\n",
       "  </thead>\n",
       "  <tbody>\n",
       "    <tr>\n",
       "      <th>2020-02-16</th>\n",
       "      <td>0.042682</td>\n",
       "    </tr>\n",
       "    <tr>\n",
       "      <th>2020-02-17</th>\n",
       "      <td>-0.030787</td>\n",
       "    </tr>\n",
       "    <tr>\n",
       "      <th>2020-02-18</th>\n",
       "      <td>-0.026822</td>\n",
       "    </tr>\n",
       "    <tr>\n",
       "      <th>2020-02-19</th>\n",
       "      <td>-0.031020</td>\n",
       "    </tr>\n",
       "    <tr>\n",
       "      <th>2020-02-20</th>\n",
       "      <td>-0.027522</td>\n",
       "    </tr>\n",
       "  </tbody>\n",
       "</table>\n",
       "</div>"
      ],
      "text/plain": [
       "               ratio\n",
       "date                \n",
       "2020-02-16  0.042682\n",
       "2020-02-17 -0.030787\n",
       "2020-02-18 -0.026822\n",
       "2020-02-19 -0.031020\n",
       "2020-02-20 -0.027522"
      ]
     },
     "execution_count": 48,
     "metadata": {},
     "output_type": "execute_result"
    }
   ],
   "source": [
    "import pandas as pd\n",
    "import datetime\n",
    "from collections import namedtuple\n",
    "\n",
    "Ref = namedtuple('Reference', ['rate', 'level'])\n",
    "\n",
    "ref = Ref(-.4, -291.06)\n",
    "ref\n",
    "\n",
    "def polyline2df(poliline, baseline, ref, start_date = datetime.date(2020, 2, 16), yname = 'ratio'):\n",
    "    df = pd.DataFrame()\n",
    "    factor = ref.rate / (ref.level - baseline)\n",
    "    \n",
    "    x, y = [], []\n",
    "    for i, value in enumerate(poliline.points):\n",
    "        if i % 2 == 0:\n",
    "            x.append(start_date)\n",
    "            start_date = start_date + datetime.timedelta(days=1)\n",
    "        elif i % 2 == 1:\n",
    "            y.append(((value * -1) - baseline) * factor)\n",
    "            \n",
    "    df['date'] = x\n",
    "    df[yname] = y\n",
    "    \n",
    "    return df.set_index('date')\n",
    "\n",
    "df = polyline2df(polyline, -273.91, ref)\n",
    "#df.set_index('x')\n",
    "df.head()"
   ]
  },
  {
   "cell_type": "code",
   "execution_count": 49,
   "metadata": {},
   "outputs": [
    {
     "name": "stdout",
     "output_type": "stream",
     "text": [
      "Residential\n",
      "Grocery & pharmacy\n",
      "Parks\n",
      "Retail - recreation\n",
      "Workplaces\n",
      "Transit stations\n"
     ]
    }
   ],
   "source": [
    "dataframes = []\n",
    "\n",
    "for file in file_list:\n",
    "    drawing = svg2rlg(f'data/figures/{file.name}')\n",
    "    polyline = get_type(drawing, PolyLine, True)\n",
    "    data_name = file.name.split('.')[0]\n",
    "    print(data_name)\n",
    "    df = polyline2df(polyline, -273.91, ref, yname = data_name)\n",
    "    dataframes.append(df)"
   ]
  },
  {
   "cell_type": "code",
   "execution_count": 54,
   "metadata": {},
   "outputs": [],
   "source": [
    "df = pd.concat(dataframes, axis=1)\n",
    "df.reset_index().to_feather('gcmr.feather')\n",
    "df.to_csv('gcmr.csv')"
   ]
  },
  {
   "cell_type": "code",
   "execution_count": null,
   "metadata": {},
   "outputs": [],
   "source": []
  }
 ],
 "metadata": {
  "kernelspec": {
   "display_name": "Python 3",
   "language": "python",
   "name": "python3"
  },
  "language_info": {
   "codemirror_mode": {
    "name": "ipython",
    "version": 3
   },
   "file_extension": ".py",
   "mimetype": "text/x-python",
   "name": "python",
   "nbconvert_exporter": "python",
   "pygments_lexer": "ipython3",
   "version": "3.8.1"
  }
 },
 "nbformat": 4,
 "nbformat_minor": 4
}
